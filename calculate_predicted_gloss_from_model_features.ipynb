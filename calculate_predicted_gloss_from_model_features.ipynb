{
 "cells": [
  {
   "cell_type": "markdown",
   "metadata": {},
   "source": [
    "# Example of training a gloss-decoding linear SVM on precalculated model features, saving the trained classifier, and calculating predicted gloss values for probe stimuli\n",
    "- e.g. In the case of the PixelVAE network, the precalculated features are the 10D latent representations of all the training images.\n"
   ]
  },
  {
   "cell_type": "code",
   "execution_count": null,
   "metadata": {},
   "outputs": [],
   "source": [
    "%matplotlib inline\n",
    "\n",
    "import os\n",
    "import json\n",
    "import numpy as np\n",
    "import scipy.misc\n",
    "import time\n",
    "import pandas as pd\n",
    "from sklearn.externals import joblib\n",
    "\n",
    "from sklearn import svm, preprocessing\n",
    "from sklearn.model_selection import train_test_split\n",
    "from sklearn.metrics import accuracy_score\n",
    "from sklearn import linear_model, svm"
   ]
  },
  {
   "cell_type": "markdown",
   "metadata": {},
   "source": [
    "## 1. Load features and labels"
   ]
  },
  {
   "cell_type": "code",
   "execution_count": null,
   "metadata": {},
   "outputs": [],
   "source": [
    "# if model features are saved as numpy arrays\n",
    "latent = np.load('./notebook_outputs/PixelVAE01_latents_mainset10k.npy')\n",
    "savename = 'PixelVAE01' # suffix for saving trained classifier (used later for getting predictions for probe ims)\n",
    "latent.shape\n",
    "\n",
    "# alternatively, if features are saved as .csv files\n",
    "# latent = np.genfromtxt('../models/pretrained_DNN/outputs/feats_10k_mainset/layer069.csv', delimiter=',')\n",
    "# savename = 'pretrained' # suffix for saving trained classifier (used later for getting predictions for probe ims)\n",
    "# latent.shape"
   ]
  },
  {
   "cell_type": "code",
   "execution_count": null,
   "metadata": {},
   "outputs": [],
   "source": [
    "# Fetch the .csv file that provides the ground-truth information about the material etc in each image\n",
    "scene_log = pd.read_csv('../data/output_images_10k_scenes/scene_log.csv')\n",
    "print(scene_log.head()) # sanity checking\n",
    "\n",
    "# get the true material gloss labels from this table, as a numpy array\n",
    "gloss_labels = np.array(scene_log['gloss_cat'][0:latent.shape[0]]).astype('int')"
   ]
  },
  {
   "cell_type": "code",
   "execution_count": null,
   "metadata": {},
   "outputs": [],
   "source": [
    "# scale data for better classifier training\n",
    "x_scaled = preprocessing.scale(latent.astype(float))"
   ]
  },
  {
   "cell_type": "markdown",
   "metadata": {},
   "source": [
    "## 2. Train gloss classifier"
   ]
  },
  {
   "cell_type": "code",
   "execution_count": null,
   "metadata": {},
   "outputs": [],
   "source": [
    "tic = time.time()\n",
    "\n",
    "# using sklearn function to split into whatever proportions of train and test data you'd like\n",
    "# Note: you can set a hard seed here so that train/test splits will be repeatable. Currently they're random and unknown.\n",
    "x_train, x_test, y_train, y_test = train_test_split(x_scaled, gloss_labels, test_size=0.25)\n",
    "\n",
    "print(\"Training X data shape: {}\".format(x_train.shape))\n",
    "print(\"Training Y targets shape: {}\".format(y_train.shape))\n",
    "    \n",
    "# choose classifier and train\n",
    "clf = svm.SVC(kernel='linear', verbose=True)\n",
    "clf.fit(x_train, y_train)\n",
    "\n",
    "# check test and training accuracy\n",
    "test_acc = clf.score(x_test, y_test)\n",
    "train_acc = clf.score(x_train, y_train)\n",
    "print(\"Training data accuracy = {}, Test data accuracy = {}\".format(train_acc, test_acc))\n",
    "    \n",
    "print(\"FINISHED. Decoding script took {} minutes.\".format((time.time() - tic)/60))"
   ]
  },
  {
   "cell_type": "code",
   "execution_count": null,
   "metadata": {},
   "outputs": [],
   "source": [
    "# save trained gloss classifier\n",
    "joblib.dump(clf,'./notebook_outputs/trained_gloss_classifier_{}.joblib'.format(savename))"
   ]
  },
  {
   "cell_type": "markdown",
   "metadata": {},
   "source": [
    "## 3. Use the gloss classifier just created to calculate predicted gloss values for probe images"
   ]
  },
  {
   "cell_type": "code",
   "execution_count": null,
   "metadata": {},
   "outputs": [],
   "source": [
    "# loads the classifier we just saved\n",
    "clf = joblib.load('./notebook_outputs/trained_gloss_classifier_{}.joblib'.format(savename))"
   ]
  },
  {
   "cell_type": "code",
   "execution_count": null,
   "metadata": {},
   "outputs": [],
   "source": [
    "# load features that have been precalculated for probe images\n",
    "# e.g. a network's latent representations of a set of experimental stimuli\n",
    "probefeats = np.load('./notebook_outputs/PixelVAE01_expt1_test_images.npy')\n",
    "probename = 'expt1_test_images'"
   ]
  },
  {
   "cell_type": "code",
   "execution_count": null,
   "metadata": {},
   "outputs": [],
   "source": [
    "# calculate predicted gloss values, i.e. signed distance from the glossy/matte classifier hyperplane\n",
    "probevals = clf.decision_function(probefeats)\n",
    "probevals.shape"
   ]
  },
  {
   "cell_type": "code",
   "execution_count": null,
   "metadata": {},
   "outputs": [],
   "source": [
    "# save the predicted gloss values\n",
    "np.save('./notebook_outputs/gloss_vals_{}_{}.npy'.format(savename, probename), probevals)"
   ]
  }
 ],
 "metadata": {
  "kernelspec": {
   "display_name": "Python 3",
   "language": "python",
   "name": "python3"
  },
  "language_info": {
   "codemirror_mode": {
    "name": "ipython",
    "version": 3
   },
   "file_extension": ".py",
   "mimetype": "text/x-python",
   "name": "python",
   "nbconvert_exporter": "python",
   "pygments_lexer": "ipython3",
   "version": "3.6.9"
  }
 },
 "nbformat": 4,
 "nbformat_minor": 2
}
